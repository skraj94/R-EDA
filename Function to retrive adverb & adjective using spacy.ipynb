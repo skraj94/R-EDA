{
 "cells": [
  {
   "cell_type": "code",
   "execution_count": 2,
   "metadata": {},
   "outputs": [],
   "source": [
    "import nltk\n",
    "import spacy\n",
    "nlp = spacy.load(\"en_core_web_sm\")"
   ]
  },
  {
   "cell_type": "code",
   "execution_count": 19,
   "metadata": {},
   "outputs": [],
   "source": [
    "def adjective(sen):\n",
    "    nlp = spacy.load(\"en_core_web_sm\")\n",
    "    sen = nlp(sen)\n",
    "    pos = [token.text for token in sen if token.pos_==\"ADJ\"]\n",
    "    return pos\n",
    "    "
   ]
  },
  {
   "cell_type": "code",
   "execution_count": 20,
   "metadata": {},
   "outputs": [
    {
     "data": {
      "text/plain": [
       "['difficult', 'severe', 'martinelli']"
      ]
     },
     "execution_count": 20,
     "metadata": {},
     "output_type": "execute_result"
    }
   ],
   "source": [
    "adjective(sen)"
   ]
  },
  {
   "cell_type": "code",
   "execution_count": 18,
   "metadata": {},
   "outputs": [],
   "source": [
    "sen =(u\"\"\"If you know anyone using WhatsApp you might pass on this. An IT colleague has advised that a video comes out tomorrow from WhatsApp called martinelli do not open it , it hacks your phone and nothing will fix it. Spread the word.  Now said on the news this virus is difficult and severe Pass it on to all.\n",
    "\n",
    "Warning from An Garda. An IT expert has advised that a video comes out tomorrow from WhatsApp called martinelli do not open it , it hacks your phone and nothing will fix it. Spread the word\n",
    "\n",
    "Tomorrow comes a video for whatsapp is called martinelli do not open it hacks the phone in 10 seconds and you can not stop in any way pass the data to yours and friends\"\"\")"
   ]
  },
  {
   "cell_type": "code",
   "execution_count": 6,
   "metadata": {},
   "outputs": [
    {
     "data": {
      "text/plain": [
       "['If',\n",
       " 'you',\n",
       " 'know',\n",
       " 'anyone',\n",
       " 'using',\n",
       " 'WhatsApp',\n",
       " 'you',\n",
       " 'might',\n",
       " 'pass',\n",
       " 'on',\n",
       " 'this',\n",
       " '.',\n",
       " 'An',\n",
       " 'IT',\n",
       " 'colleague',\n",
       " 'has',\n",
       " 'advised',\n",
       " 'that',\n",
       " 'a',\n",
       " 'video',\n",
       " 'comes',\n",
       " 'out',\n",
       " 'tomorrow',\n",
       " 'from',\n",
       " 'WhatsApp',\n",
       " 'called',\n",
       " 'martinelli',\n",
       " 'do',\n",
       " 'not',\n",
       " 'open',\n",
       " 'it',\n",
       " ',',\n",
       " 'it',\n",
       " 'hacks',\n",
       " 'your',\n",
       " 'phone',\n",
       " 'and',\n",
       " 'nothing',\n",
       " 'will',\n",
       " 'fix',\n",
       " 'it',\n",
       " '.',\n",
       " 'Spread',\n",
       " 'the',\n",
       " 'word',\n",
       " '.',\n",
       " ' ',\n",
       " 'Now',\n",
       " 'said',\n",
       " 'on',\n",
       " 'the',\n",
       " 'news',\n",
       " 'this',\n",
       " 'virus',\n",
       " 'is',\n",
       " 'difficult',\n",
       " 'and',\n",
       " 'severe',\n",
       " 'Pass',\n",
       " 'it',\n",
       " 'on',\n",
       " 'to',\n",
       " 'all',\n",
       " '.',\n",
       " '\\n\\n',\n",
       " 'Warning',\n",
       " 'from',\n",
       " 'An',\n",
       " 'Garda',\n",
       " '.',\n",
       " 'An',\n",
       " 'IT',\n",
       " 'expert',\n",
       " 'has',\n",
       " 'advised',\n",
       " 'that',\n",
       " 'a',\n",
       " 'video',\n",
       " 'comes',\n",
       " 'out',\n",
       " 'tomorrow',\n",
       " 'from',\n",
       " 'WhatsApp',\n",
       " 'called',\n",
       " 'martinelli',\n",
       " 'do',\n",
       " 'not',\n",
       " 'open',\n",
       " 'it',\n",
       " ',',\n",
       " 'it',\n",
       " 'hacks',\n",
       " 'your',\n",
       " 'phone',\n",
       " 'and',\n",
       " 'nothing',\n",
       " 'will',\n",
       " 'fix',\n",
       " 'it',\n",
       " '.',\n",
       " 'Spread',\n",
       " 'the',\n",
       " 'word',\n",
       " '\\n\\n',\n",
       " 'Tomorrow',\n",
       " 'comes',\n",
       " 'a',\n",
       " 'video',\n",
       " 'for',\n",
       " 'whatsapp',\n",
       " 'is',\n",
       " 'called',\n",
       " 'martinelli',\n",
       " 'do',\n",
       " 'not',\n",
       " 'open',\n",
       " 'it',\n",
       " 'hacks',\n",
       " 'the',\n",
       " 'phone',\n",
       " 'in',\n",
       " '10',\n",
       " 'seconds',\n",
       " 'and',\n",
       " 'you',\n",
       " 'can',\n",
       " 'not',\n",
       " 'stop',\n",
       " 'in',\n",
       " 'any',\n",
       " 'way',\n",
       " 'pass',\n",
       " 'the',\n",
       " 'data',\n",
       " 'to',\n",
       " 'yours',\n",
       " 'and',\n",
       " 'friends']"
      ]
     },
     "execution_count": 6,
     "metadata": {},
     "output_type": "execute_result"
    }
   ],
   "source": [
    "tokens = [token.text for token in sen]\n",
    "tokens"
   ]
  },
  {
   "cell_type": "code",
   "execution_count": 11,
   "metadata": {},
   "outputs": [
    {
     "data": {
      "text/plain": [
       "['difficult', 'severe', 'martinelli']"
      ]
     },
     "execution_count": 11,
     "metadata": {},
     "output_type": "execute_result"
    }
   ],
   "source": [
    "pos = [token.text for token in sen if token.pos_==\"ADJ\"]\n",
    "pos"
   ]
  }
 ],
 "metadata": {
  "kernelspec": {
   "display_name": "Python 3",
   "language": "python",
   "name": "python3"
  },
  "language_info": {
   "codemirror_mode": {
    "name": "ipython",
    "version": 3
   },
   "file_extension": ".py",
   "mimetype": "text/x-python",
   "name": "python",
   "nbconvert_exporter": "python",
   "pygments_lexer": "ipython3",
   "version": "3.7.1"
  }
 },
 "nbformat": 4,
 "nbformat_minor": 2
}

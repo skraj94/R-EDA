{
 "cells": [
  {
   "cell_type": "code",
   "execution_count": 1,
   "metadata": {},
   "outputs": [],
   "source": [
    "import pandas as pd\n",
    "import numpy as np"
   ]
  },
  {
   "cell_type": "code",
   "execution_count": 2,
   "metadata": {},
   "outputs": [],
   "source": [
    "def euclidean_distance(x,y):\n",
    "    return np.sqrt(np.sum((x-y)**2))"
   ]
  },
  {
   "cell_type": "code",
   "execution_count": 5,
   "metadata": {},
   "outputs": [],
   "source": [
    "def cosine_similarity(x,y):\n",
    "    return np.dot(x,y)/(np.sqrt(np.dot(x,x))*np.sqrt(np.dot(y,y)))"
   ]
  },
  {
   "cell_type": "code",
   "execution_count": 25,
   "metadata": {},
   "outputs": [],
   "source": [
    "def l1_normalize(x):\n",
    "    norm = np.sum(np.abs(x))\n",
    "    return x/norm\n",
    "\n",
    "def l2_normalize(x):\n",
    "    norm = np.sqrt(np.sum(np.square(x)))\n",
    "    return x/norm"
   ]
  },
  {
   "cell_type": "code",
   "execution_count": 26,
   "metadata": {},
   "outputs": [
    {
     "name": "stdout",
     "output_type": "stream",
     "text": [
      "2.23606797749979\n",
      "0.899954085146515\n",
      "6.557438524302\n",
      "0.899954085146515\n"
     ]
    }
   ],
   "source": [
    "x1 = np.array([1,1,3])\n",
    "x2 = np.array([3,2,3])\n",
    "x3 = x2*2\n",
    "\n",
    "print(euclidean_distance(x1,x2))\n",
    "print(cosine_similarity(x1,x2))\n",
    "\n",
    "print(euclidean_distance(x1,x3))\n",
    "print(cosine_similarity(x1,x3))"
   ]
  },
  {
   "cell_type": "code",
   "execution_count": 33,
   "metadata": {},
   "outputs": [
    {
     "name": "stdout",
     "output_type": "stream",
     "text": [
      "1.0\n",
      "1.0\n",
      "1.0\n",
      "1.0\n",
      "0.8999540851465151\n",
      "0.8999540851465151\n",
      "2.6532998322843198\n",
      "2.80066956280101\n",
      "2.80066956280101\n",
      "1.0\n",
      "0.899954085146515\n",
      "0.899954085146515\n"
     ]
    }
   ],
   "source": [
    "print(euclidean_distance(np.array([0,0,0]),l2_normalize(x1)))\n",
    "print(euclidean_distance(np.array([0,0,0]),l2_normalize(x2)))\n",
    "print(euclidean_distance(np.array([0,0,0]),l2_normalize(x3)))\n",
    "\n",
    "print(cosine_similarity(x1,l2_normalize(x1)))\n",
    "print(cosine_similarity(x1,l2_normalize(x2)))\n",
    "print(cosine_similarity(x1,l2_normalize(x3)))\n",
    "\n",
    "print(euclidean_distance(x1,l1_normalize(x1)))\n",
    "print(euclidean_distance(x1,l1_normalize(x2)))\n",
    "print(euclidean_distance(x1,l1_normalize(x3)))\n",
    "\n",
    "print(cosine_similarity(x1,l1_normalize(x1)))\n",
    "print(cosine_similarity(x1,l1_normalize(x2)))\n",
    "print(cosine_similarity(x1,l1_normalize(x3)))"
   ]
  },
  {
   "cell_type": "code",
   "execution_count": 37,
   "metadata": {},
   "outputs": [
    {
     "name": "stdout",
     "output_type": "stream",
     "text": [
      "1.7320508075688772\n",
      "0.9128709291752769\n",
      "0.41744238123296284\n",
      "0.912870929175277\n"
     ]
    }
   ],
   "source": [
    "r1 = [1,1,1,0]\n",
    "r2 = [2,2,1,1]\n",
    "\n",
    "r1 = np.array(r1)\n",
    "r2 = np.array(r2)\n",
    "\n",
    "print(euclidean_distance(r1,r2))\n",
    "print(cosine_similarity(r1,r2))\n",
    "\n",
    "r1 = l2_normalize(r1)\n",
    "r2 = l2_normalize(r2)\n",
    "\n",
    "print(euclidean_distance(r1,r2))\n",
    "print(cosine_similarity(r1,r2))"
   ]
  },
  {
   "cell_type": "code",
   "execution_count": null,
   "metadata": {},
   "outputs": [],
   "source": []
  },
  {
   "cell_type": "code",
   "execution_count": 39,
   "metadata": {},
   "outputs": [],
   "source": [
    "import wikipedia"
   ]
  },
  {
   "cell_type": "code",
   "execution_count": 40,
   "metadata": {},
   "outputs": [],
   "source": [
    "ML = wikipedia.page('Machine Learning')\n",
    "AI = wikipedia.page('Artificial Intelligence')\n",
    "soccer = wikipedia.page('Soccer')\n",
    "tennis = wikipedia.page('Tennis')"
   ]
  },
  {
   "cell_type": "code",
   "execution_count": 42,
   "metadata": {},
   "outputs": [
    {
     "name": "stdout",
     "output_type": "stream",
     "text": [
      "5824\n",
      "14054\n",
      "6686\n",
      "9903\n"
     ]
    }
   ],
   "source": [
    "for i in [ML,AI,soccer,tennis]:\n",
    "    print(len(i.content.split()))"
   ]
  },
  {
   "cell_type": "code",
   "execution_count": 60,
   "metadata": {},
   "outputs": [],
   "source": [
    "from sklearn.feature_extraction.text import CountVectorizer\n",
    "cv = CountVectorizer()"
   ]
  },
  {
   "cell_type": "code",
   "execution_count": 61,
   "metadata": {},
   "outputs": [],
   "source": [
    "X = np.array(cv.fit_transform([ML.content,AI.content,soccer.content,tennis.content]).toarray())"
   ]
  },
  {
   "cell_type": "code",
   "execution_count": 62,
   "metadata": {},
   "outputs": [
    {
     "data": {
      "text/plain": [
       "5568"
      ]
     },
     "execution_count": 62,
     "metadata": {},
     "output_type": "execute_result"
    }
   ],
   "source": [
    "len(X[3])"
   ]
  },
  {
   "cell_type": "code",
   "execution_count": 63,
   "metadata": {},
   "outputs": [
    {
     "data": {
      "text/plain": [
       "array([[0, 0, 0, ..., 0, 0, 0],\n",
       "       [1, 0, 0, ..., 2, 0, 0],\n",
       "       [2, 1, 0, ..., 0, 0, 1],\n",
       "       [6, 0, 1, ..., 0, 1, 0]], dtype=int64)"
      ]
     },
     "execution_count": 63,
     "metadata": {},
     "output_type": "execute_result"
    }
   ],
   "source": [
    "X"
   ]
  },
  {
   "cell_type": "code",
   "execution_count": 64,
   "metadata": {},
   "outputs": [
    {
     "name": "stdout",
     "output_type": "stream",
     "text": [
      "MI and AL 758.2005011868563\n",
      "MI and Soccer 445.5457327817202\n",
      "MI and Tennis 719.7652395052154\n"
     ]
    }
   ],
   "source": [
    "print('MI and AL',euclidean_distance(X[0],X[1]))\n",
    "print('MI and Soccer',euclidean_distance(X[0],X[2]))\n",
    "print('MI and Tennis',euclidean_distance(X[0],X[3]))"
   ]
  },
  {
   "cell_type": "code",
   "execution_count": 65,
   "metadata": {},
   "outputs": [
    {
     "name": "stdout",
     "output_type": "stream",
     "text": [
      "MI and AL 0.8983936636578879\n",
      "MI and Soccer 0.7999860757659175\n",
      "MI and Tennis 0.8066485701670467\n"
     ]
    }
   ],
   "source": [
    "print('MI and AL',cosine_similarity(X[0],X[1]))\n",
    "print('MI and Soccer',cosine_similarity(X[0],X[2]))\n",
    "print('MI and Tennis',cosine_similarity(X[0],X[3]))"
   ]
  },
  {
   "cell_type": "code",
   "execution_count": 66,
   "metadata": {},
   "outputs": [
    {
     "name": "stdout",
     "output_type": "stream",
     "text": [
      "MI and AL 0.45079116305028\n",
      "MI and Soccer 0.6324775477976787\n",
      "MI and Tennis 0.6218543717510611\n"
     ]
    }
   ],
   "source": [
    "print('MI and AL',euclidean_distance(l2_normalize(X[0]),l2_normalize(X[1])))\n",
    "print('MI and Soccer',euclidean_distance(l2_normalize(X[0]),l2_normalize(X[2])))\n",
    "print('MI and Tennis',euclidean_distance(l2_normalize(X[0]),l2_normalize(X[3])))"
   ]
  },
  {
   "cell_type": "code",
   "execution_count": null,
   "metadata": {},
   "outputs": [],
   "source": []
  },
  {
   "cell_type": "code",
   "execution_count": null,
   "metadata": {},
   "outputs": [],
   "source": []
  }
 ],
 "metadata": {
  "kernelspec": {
   "display_name": "Python 3",
   "language": "python",
   "name": "python3"
  },
  "language_info": {
   "codemirror_mode": {
    "name": "ipython",
    "version": 3
   },
   "file_extension": ".py",
   "mimetype": "text/x-python",
   "name": "python",
   "nbconvert_exporter": "python",
   "pygments_lexer": "ipython3",
   "version": "3.7.1"
  }
 },
 "nbformat": 4,
 "nbformat_minor": 2
}

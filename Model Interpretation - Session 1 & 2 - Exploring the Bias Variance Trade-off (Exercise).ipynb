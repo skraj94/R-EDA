{
 "cells": [
  {
   "cell_type": "markdown",
   "metadata": {},
   "source": [
    "## Model Interpretation - Exploring the Bias Variance Trade-off"
   ]
  },
  {
   "cell_type": "markdown",
   "metadata": {},
   "source": [
    "### Objective:\n",
    "\n",
    "Exploring the bias-variance trade-off.......\n",
    "\n",
    "* **Part A: Overfitting in Linear Regression** .....\n",
    "\n",
    "* **Part B: Overfitting in Decision Tree** ....."
   ]
  },
  {
   "cell_type": "markdown",
   "metadata": {},
   "source": [
    "### A. Fitting a Linear Regression Line (Example)"
   ]
  },
  {
   "cell_type": "code",
   "execution_count": 1,
   "metadata": {},
   "outputs": [],
   "source": [
    "import numpy as np\n",
    "import pandas as pd\n",
    "import matplotlib.pyplot as plt\n",
    "import os "
   ]
  },
  {
   "cell_type": "code",
   "execution_count": null,
   "metadata": {},
   "outputs": [],
   "source": [
    "#[REFER TO MY PREVIOUS NOTEBOOK]"
   ]
  },
  {
   "cell_type": "code",
   "execution_count": 2,
   "metadata": {},
   "outputs": [],
   "source": [
    "house_set1 = pd.read_csv('C:\\\\Users\\\\SKR\\\\Desktop\\\\Model Interpretation\\\\house train\\\\wk3_kc_house_set_1_data.csv')\n",
    "house_set2 = pd.read_csv('C:\\\\Users\\\\SKR\\\\Desktop\\\\Model Interpretation\\\\house train\\\\wk3_kc_house_set_2_data.csv')\n",
    "house_set3 = pd.read_csv('C:\\\\Users\\\\SKR\\\\Desktop\\\\Model Interpretation\\\\house train\\\\wk3_kc_house_set_3_data.csv')\n",
    "house_set4 = pd.read_csv('C:\\\\Users\\\\SKR\\\\Desktop\\\\Model Interpretation\\\\house train\\\\wk3_kc_house_set_4_data.csv')\n",
    "test = pd.read_csv('wk3_kc_house_test_data.csv')\n",
    "validation = pd.read_csv(\"wk3_kc_house_valid_data.csv\")\n"
   ]
  },
  {
   "cell_type": "code",
   "execution_count": null,
   "metadata": {},
   "outputs": [],
   "source": [
    "house_set1.head()"
   ]
  },
  {
   "cell_type": "code",
   "execution_count": null,
   "metadata": {},
   "outputs": [],
   "source": [
    "df = pd.DataFrame(house_set1.sort_values('sqft_living'))\n",
    "df.head()\n"
   ]
  },
  {
   "cell_type": "code",
   "execution_count": null,
   "metadata": {},
   "outputs": [],
   "source": [
    "# # code for liner regression using stas package \n",
    "# import statsmodels.api as sts\n",
    "# a = sts.add_constant(x) # This will help us to get the value of a in y = a+bx\n",
    "# a.head()\n",
    "# model = sts.OLS(y,a).fit()\n",
    "# model.summary()\n",
    "# # For Weighted least square use syntax as same instead of OLS use WLS\n",
    "# # co-efficient values are the values of a and b\n",
    "# # To get the co-efficient value alone \n",
    "# model.params"
   ]
  },
  {
   "cell_type": "code",
   "execution_count": null,
   "metadata": {},
   "outputs": [],
   "source": []
  },
  {
   "cell_type": "markdown",
   "metadata": {},
   "source": [
    "### Here You Go ..."
   ]
  },
  {
   "cell_type": "markdown",
   "metadata": {},
   "source": [
    "**A.1. Create a basic setup**\n",
    "\n",
    "Write your own function called ‘polynomial_dataframe’ which accepts an array ‘feature’ and a maximal ‘degree’ and returns an data frame with the first column equal to ‘feature’ and the remaining columns equal to ‘feature’ to increasing integer powers up to ‘degree’."
   ]
  },
  {
   "cell_type": "code",
   "execution_count": null,
   "metadata": {},
   "outputs": [],
   "source": [
    "def polynomial_dataframe(feature, degree): # feature is pandas.Series type\n",
    "    # assume that degree >= 1\n",
    "    # initialize the dataframe:\n",
    "    poly_dataframe = pd.DataFrame()\n",
    "    poly_dataframe['feature'] = feature \n",
    "    # and set poly_dataframe['power_1'] equal to the passed feature\n",
    "    #...\n",
    "    #[YOUR CODES HERE]\n",
    "    \n",
    "    \n",
    "    # first check if degree > 1\n",
    "    if degree > 1:\n",
    "        # then loop over the remaining degrees:\n",
    "        for power in range(2, degree+1):\n",
    "            # first we'll give the column a name:\n",
    "            name = 'power_' + str(power)\n",
    "            poly_dataframe[name]= poly_dataframe.apply(lambda x:x.feature**power,axis =1)\n",
    "            #poly_dataframe[name] = (feature)**(power)\n",
    "            # assign poly_dataframe[name] to be feature^power; use apply(*)\n",
    "            #...\n",
    "            \n",
    "            #[YOUR CODES HERE]\n",
    "            \n",
    "            \n",
    "    return poly_dataframe\n",
    "\n"
   ]
  },
  {
   "cell_type": "code",
   "execution_count": null,
   "metadata": {},
   "outputs": [],
   "source": [
    "df2 = polynomial_dataframe(df.sqft_living,2)\n",
    "df2"
   ]
  },
  {
   "cell_type": "markdown",
   "metadata": {
    "collapsed": true
   },
   "source": [
    "#### A.2. Fitting a Polynomial of degree 2"
   ]
  },
  {
   "cell_type": "markdown",
   "metadata": {
    "collapsed": true
   },
   "source": [
    "Use your polynomial_dataframe() function to create a dataframe with feature = 'sqft_living' and degree = 2. Take your y as 'price' and X as polynomial_dataframe(sales['sqft_living'], 1) and fit the regression model y on X. Plot the model on the scatter plot between 'sqft_living' and 'price'."
   ]
  },
  {
   "cell_type": "code",
   "execution_count": null,
   "metadata": {},
   "outputs": [],
   "source": [
    "import statsmodels.api as sts"
   ]
  },
  {
   "cell_type": "code",
   "execution_count": null,
   "metadata": {},
   "outputs": [],
   "source": [
    "x = df2\n",
    "y = df.price"
   ]
  },
  {
   "cell_type": "code",
   "execution_count": null,
   "metadata": {},
   "outputs": [],
   "source": [
    "# fit the lr model\n",
    "from sklearn import linear_model\n",
    "lm = linear_model.LinearRegression()\n",
    "# model = lm.fit(X_train,y_train)\n",
    "# predictions = lm.predict(X_train)\n",
    "#lm.score(X_train,y_train)"
   ]
  },
  {
   "cell_type": "code",
   "execution_count": null,
   "metadata": {},
   "outputs": [],
   "source": [
    "def linear_reg_OLS(x,y):\n",
    "    import statsmodels.api as sts\n",
    "    a = sts.add_constant(x)\n",
    "    model = sts.OLS(y,a).fit()\n",
    "    return model\n",
    "\n",
    "def linear_reg_sklearn(x,y):\n",
    "    from sklearn import linear_model\n",
    "    lm = linear_model.LinearRegression()\n",
    "    model = lm.fit(x,y)\n",
    "    return model"
   ]
  },
  {
   "cell_type": "code",
   "execution_count": null,
   "metadata": {},
   "outputs": [],
   "source": [
    "OLS = linear_reg_sklearn(x,y)\n",
    "OLS.coef_"
   ]
  },
  {
   "cell_type": "code",
   "execution_count": null,
   "metadata": {},
   "outputs": [],
   "source": [
    "x.shape"
   ]
  },
  {
   "cell_type": "code",
   "execution_count": null,
   "metadata": {},
   "outputs": [],
   "source": [
    "OLS.predict(x)"
   ]
  },
  {
   "cell_type": "code",
   "execution_count": null,
   "metadata": {},
   "outputs": [],
   "source": [
    "df.sqft_living.shape"
   ]
  },
  {
   "cell_type": "code",
   "execution_count": null,
   "metadata": {},
   "outputs": [],
   "source": [
    "plt.xlabel('SQFT OF LIVING', color = \"orange\", fontsize= 12 )\n",
    "plt.ylabel('PRICE', color = \"orange\", fontsize= 12 )\n",
    "plt.title('Fit of polynomial degree_2',fontsize= 14)\n",
    "plt.scatter(df.sqft_living,df.price)\n",
    "plt.plot(df.sqft_living,OLS.predict(x))\n",
    "plt.savefig('Fit of polynomial degree_2.png')"
   ]
  },
  {
   "cell_type": "markdown",
   "metadata": {},
   "source": [
    "#### A.3. Fitting higher order polynomial fits"
   ]
  },
  {
   "cell_type": "markdown",
   "metadata": {},
   "source": [
    "Fit a polynomial of 3rd degree, 4th degree and 5th degree. Look at the fitted line. Do they appear as you would expect?"
   ]
  },
  {
   "cell_type": "code",
   "execution_count": null,
   "metadata": {},
   "outputs": [],
   "source": [
    "for i in [3,4,5]:\n",
    "    feature = polynomial_dataframe(df.sqft_living,i)\n",
    "    x = feature\n",
    "    y = df.price\n",
    "\n",
    "    OLS = linear_reg_OLS(x,y)\n",
    "    #print(OLS)\n",
    "    sklearn = linear_reg_sklearn(x,y)\n",
    "    #print('SKLEARN SCORE'+str(sklearn))\n",
    "    plt.scatter(df.sqft_living,df.price, alpha = .5)\n",
    "    plt.xlabel('SQFT_LIVING', color = \"orange\", fontsize= 12 )\n",
    "    plt.ylabel('PRICE', color = \"orange\", fontsize= 12 )\n",
    "    plt.title('Fit of polynomial degree_'+str(i),fontsize= 14)\n",
    "    plt.plot(df.sqft_living,sklearn.predict(x))\n",
    "    plt.show()\n",
    "    plt.savefig('Fit of polynomial degree_'+str(i)+'.png')"
   ]
  },
  {
   "cell_type": "markdown",
   "metadata": {},
   "source": [
    "#### A.4. Fit a polynomial of degree 15"
   ]
  },
  {
   "cell_type": "markdown",
   "metadata": {},
   "source": [
    "Now try a 15th degree polynomial. Print out the coefficients and look at the resulted fitted line. Do you think this degree is appropriate for these data? If we were to use a different subset of the data do you think we would get pretty much the same curve?"
   ]
  },
  {
   "cell_type": "code",
   "execution_count": null,
   "metadata": {},
   "outputs": [],
   "source": [
    "feature = polynomial_dataframe(df.sqft_living,15)\n",
    "x = feature\n",
    "y = df.price\n",
    "OLS = linear_reg_OLS(x,y)\n",
    "#print(OLS)\n",
    "sklearn = linear_reg_sklearn(x,y)\n",
    "#print('SKLEARN SCORE'+str(sklearn))\n",
    "plt.scatter(df.sqft_living,df.price, alpha = .5)\n",
    "plt.xlabel('SQFT_LIVING', color = \"orange\", fontsize= 12 )\n",
    "plt.ylabel('PRICE', color = \"orange\", fontsize= 12 )\n",
    "plt.title('Fit of polynomial degree_15',fontsize= 14)\n",
    "plt.plot(df.sqft_living,sklearn.predict(x))\n",
    "plt.show()\n",
    "plt.savefig('Fit of polynomial degree_15.png')"
   ]
  },
  {
   "cell_type": "code",
   "execution_count": null,
   "metadata": {},
   "outputs": [],
   "source": [
    "valid = pd.read_csv('wk3_kc_house_valid_data.csv')\n",
    "valid = valid.sort_values('sqft_living')\n",
    "valid.head()"
   ]
  },
  {
   "cell_type": "markdown",
   "metadata": {},
   "source": [
    "#### A.5. Exploring overfitting due to high variance"
   ]
  },
  {
   "cell_type": "markdown",
   "metadata": {},
   "source": [
    "Estimate a 15th degree polynomial on all 4 subsets of the original sample (provided to you), plot the results and view the coefficients for all four models."
   ]
  },
  {
   "cell_type": "code",
   "execution_count": null,
   "metadata": {},
   "outputs": [],
   "source": [
    "house_set1 = house_set1.sort_values('sqft_living')\n",
    "house_set2 = house_set2.sort_values('sqft_living')\n",
    "house_set3 = house_set3.sort_values('sqft_living')\n",
    "house_set4 = house_set4.sort_values('sqft_living')\n"
   ]
  },
  {
   "cell_type": "code",
   "execution_count": null,
   "metadata": {},
   "outputs": [],
   "source": [
    "feature = polynomial_dataframe(house_set1.sqft_living,15)\n",
    "x = feature\n",
    "y = house_set1.price\n",
    "OLS = linear_reg_OLS(x,y)\n",
    "#print(OLS.summary())\n",
    "sklearn1 = linear_reg_sklearn(x,y)\n",
    "print('Coeffecients'+str(sklearn.coef_))\n",
    "plt.scatter(house_set1.sqft_living,house_set1.price, alpha = .5)\n",
    "plt.xlabel('SQFT_LIVING', color = \"orange\", fontsize= 12 )\n",
    "plt.ylabel('PRICE', color = \"orange\", fontsize= 12 )\n",
    "plt.title('Fit of Houseset_1',fontsize= 14)\n",
    "plt.plot(house_set1.sqft_living,sklearn1.predict(x))\n",
    "plt.show()\n",
    "plt.savefig('Fit of Houseset_1.png')\n"
   ]
  },
  {
   "cell_type": "code",
   "execution_count": null,
   "metadata": {},
   "outputs": [],
   "source": [
    "feature = polynomial_dataframe(house_set2.sqft_living,15)\n",
    "x = feature\n",
    "y = house_set2.price\n",
    "OLS = linear_reg_OLS(x,y)\n",
    "#print(OLS.summary())\n",
    "sklearn2 = linear_reg_sklearn(x,y)\n",
    "print('Coeffecients'+str(sklearn.coef_))\n",
    "plt.scatter(house_set2.sqft_living,house_set2.price, alpha = .5)\n",
    "plt.xlabel('SQFT_LIVING', color = \"orange\", fontsize= 12 )\n",
    "plt.ylabel('PRICE', color = \"orange\", fontsize= 12 )\n",
    "plt.title('Fit of house_set2',fontsize= 14)\n",
    "plt.plot(house_set2.sqft_living,sklearn2.predict(x))\n",
    "plt.show()\n",
    "plt.savefig('Fit of Houseset_2.png')"
   ]
  },
  {
   "cell_type": "code",
   "execution_count": null,
   "metadata": {},
   "outputs": [],
   "source": [
    "feature = polynomial_dataframe(house_set3.sqft_living,15)\n",
    "x = feature\n",
    "y = house_set3.price\n",
    "OLS = linear_reg_OLS(x,y)\n",
    "#print(OLS.summary())\n",
    "sklearn3 = linear_reg_sklearn(x,y)\n",
    "print('Coeffecients'+str(sklearn.coef_))\n",
    "plt.scatter(house_set3.sqft_living,house_set3.price, alpha = .5)\n",
    "plt.xlabel('SQFT_LIVING', color = \"orange\", fontsize= 12 )\n",
    "plt.ylabel('PRICE', color = \"orange\", fontsize= 12 )\n",
    "plt.title('Fit of House_set-3',fontsize= 14)\n",
    "plt.plot(house_set3.sqft_living,sklearn3.predict(x))\n",
    "plt.show()\n",
    "plt.savefig('Fit of Houseset_3.png')"
   ]
  },
  {
   "cell_type": "code",
   "execution_count": null,
   "metadata": {},
   "outputs": [],
   "source": [
    "feature = polynomial_dataframe(house_set4.sqft_living,15)\n",
    "x = feature\n",
    "y = house_set4.price\n",
    "OLS = linear_reg_OLS(x,y)\n",
    "#print(OLS.summary())\n",
    "sklearn4 = linear_reg_sklearn(x,y)\n",
    "print('Coeffecients'+str(sklearn.coef_)+ str(sklearn.score))\n",
    "plt.scatter(house_set4.sqft_living,house_set4.price, alpha = .5)\n",
    "plt.xlabel('SQFT_LIVING', color = \"orange\", fontsize= 12 )\n",
    "plt.ylabel('PRICE', color = \"orange\", fontsize= 12 )\n",
    "plt.title('Fit of Houseset_4',fontsize= 14)\n",
    "plt.plot(house_set4.sqft_living,sklearn4.predict(x))\n",
    "plt.show()\n",
    "plt.savefig('Fit of Houseset_4.png')\n",
    "y_pred = sklearn4.predict(x)\n",
    "rss = []\n",
    "formula = np.sum((y-y_pred)**2)\n",
    "rss.append(formula)\n",
    "print(rss)"
   ]
  },
  {
   "cell_type": "code",
   "execution_count": null,
   "metadata": {},
   "outputs": [],
   "source": []
  },
  {
   "cell_type": "code",
   "execution_count": null,
   "metadata": {},
   "outputs": [],
   "source": []
  },
  {
   "cell_type": "markdown",
   "metadata": {},
   "source": [
    "**Answer the following questions**"
   ]
  },
  {
   "cell_type": "markdown",
   "metadata": {
    "collapsed": true
   },
   "source": [
    "**Is the sign (positive or negative) for power_15 the same in all four models?**"
   ]
  },
  {
   "cell_type": "code",
   "execution_count": null,
   "metadata": {},
   "outputs": [],
   "source": [
    "#NO the signs are different"
   ]
  },
  {
   "cell_type": "markdown",
   "metadata": {
    "collapsed": true
   },
   "source": [
    "**True/False the plotted fitted lines look the same in all four plots**"
   ]
  },
  {
   "cell_type": "code",
   "execution_count": null,
   "metadata": {},
   "outputs": [],
   "source": [
    "#false"
   ]
  },
  {
   "cell_type": "markdown",
   "metadata": {
    "collapsed": true
   },
   "source": [
    "#### A.6. Validate your models"
   ]
  },
  {
   "cell_type": "markdown",
   "metadata": {
    "collapsed": true
   },
   "source": [
    "A separate training set, validation set and test set is provided to you. For each degree (1,2,...15), fit a regression model on the training set and validate on the validation set by computing the RSS. Save the RSS in a list and plot a graph to visualize 'RSS' against 'Model Complexity'. "
   ]
  },
  {
   "cell_type": "code",
   "execution_count": null,
   "metadata": {},
   "outputs": [],
   "source": [
    "valid = pd.read_csv('wk3_kc_house_valid_data.csv')\n",
    "valid = valid.sort_values('sqft_living')\n",
    "valid.head()"
   ]
  },
  {
   "cell_type": "code",
   "execution_count": null,
   "metadata": {},
   "outputs": [],
   "source": [
    "rss1 = []\n",
    "\n",
    "for i in range(1,16,1):\n",
    "    feature = polynomial_dataframe(valid.sqft_living,i)\n",
    "    inp = polynomial_dataframe(house_set1.sqft_living,i)\n",
    "    x = inp\n",
    "    y = house_set1.price\n",
    "    fx = feature\n",
    "    fy = valid.price\n",
    "    sklearn = linear_reg_sklearn(x,y)\n",
    "    y_pred = sklearn.predict(fx)\n",
    "    formula = np.sum((fy-y_pred)**2)\n",
    "    rss1.append(formula)\n",
    "print(rss1)\n",
    "    "
   ]
  },
  {
   "cell_type": "code",
   "execution_count": null,
   "metadata": {},
   "outputs": [],
   "source": [
    "plot_y = []\n",
    "for i in range(1,16,1):\n",
    "    plot_y.append(i)\n",
    "plot_y"
   ]
  },
  {
   "cell_type": "code",
   "execution_count": null,
   "metadata": {},
   "outputs": [],
   "source": [
    "\n",
    "plt.plot(plot_y,rss1)\n",
    "plt.xlabel('Model_complexity', color = \"orange\", fontsize= 12 )\n",
    "plt.ylabel('RSS', color = \"orange\", fontsize= 12 )\n",
    "plt.title('VALIDATION_RSS and Model_complexity',fontsize= 14)\n",
    "plt.savefig('Val-comp plot.png')"
   ]
  },
  {
   "cell_type": "markdown",
   "metadata": {
    "collapsed": true
   },
   "source": [
    "**Answer the following questions**"
   ]
  },
  {
   "cell_type": "markdown",
   "metadata": {
    "collapsed": true
   },
   "source": [
    "**Which degree (1, 2, …, 15) had the lowest RSS on Validation data?**"
   ]
  },
  {
   "cell_type": "markdown",
   "metadata": {},
   "source": [
    "# Polynomial degree of 4"
   ]
  },
  {
   "cell_type": "markdown",
   "metadata": {
    "collapsed": true
   },
   "source": [
    "#### A.7. Test your Final Model"
   ]
  },
  {
   "cell_type": "markdown",
   "metadata": {
    "collapsed": true
   },
   "source": [
    "Now that you have selected a degree compute the RSS on TEST data for the model with the best degree from the Validation data."
   ]
  },
  {
   "cell_type": "code",
   "execution_count": null,
   "metadata": {},
   "outputs": [],
   "source": [
    "test = pd.read_csv('wk3_kc_house_test_data.csv')\n",
    "test = test.sort_values('sqft_living')\n",
    "test.head()"
   ]
  },
  {
   "cell_type": "code",
   "execution_count": null,
   "metadata": {},
   "outputs": [],
   "source": [
    "feature = polynomial_dataframe(test.sqft_living,4)\n",
    "inp = polynomial_dataframe(house_set1.sqft_living,4)\n",
    "x = inp\n",
    "y = house_set1.price\n",
    "fx = feature\n",
    "fy = test.price\n",
    "sklearn = linear_reg_sklearn(x,y)\n",
    "y_pred = sklearn.predict(fx)\n",
    "rss = np.sum((fy-y_pred)**2)\n",
    "\n",
    "print(rss)"
   ]
  },
  {
   "cell_type": "markdown",
   "metadata": {},
   "source": [
    "**what is the RSS on TEST data for the model with the degree selected from Validation data? (Make sure you got the correct degree from the previous question)**"
   ]
  },
  {
   "cell_type": "markdown",
   "metadata": {},
   "source": [
    "# 135199927376612.23"
   ]
  },
  {
   "cell_type": "markdown",
   "metadata": {},
   "source": [
    "### B. Fitting a Regression Tree (Example)"
   ]
  },
  {
   "cell_type": "code",
   "execution_count": 3,
   "metadata": {},
   "outputs": [],
   "source": [
    "from sklearn.tree import DecisionTreeRegressor"
   ]
  },
  {
   "cell_type": "code",
   "execution_count": 4,
   "metadata": {},
   "outputs": [],
   "source": [
    "regressor = DecisionTreeRegressor(random_state = 0)  "
   ]
  },
  {
   "cell_type": "code",
   "execution_count": 5,
   "metadata": {},
   "outputs": [],
   "source": [
    "house_set1 = house_set1.sort_values('sqft_living')\n",
    "house_set2 = house_set2.sort_values('sqft_living')\n",
    "house_set3 = house_set3.sort_values('sqft_living')\n",
    "house_set4 = house_set4.sort_values('sqft_living')"
   ]
  },
  {
   "cell_type": "code",
   "execution_count": 6,
   "metadata": {},
   "outputs": [
    {
     "data": {
      "text/plain": [
       "Index(['id', 'date', 'price', 'bedrooms', 'bathrooms', 'sqft_living',\n",
       "       'sqft_lot', 'floors', 'waterfront', 'view', 'condition', 'grade',\n",
       "       'sqft_above', 'sqft_basement', 'yr_built', 'yr_renovated', 'zipcode',\n",
       "       'lat', 'long', 'sqft_living15', 'sqft_lot15'],\n",
       "      dtype='object')"
      ]
     },
     "execution_count": 6,
     "metadata": {},
     "output_type": "execute_result"
    }
   ],
   "source": [
    "house_set1.columns"
   ]
  },
  {
   "cell_type": "markdown",
   "metadata": {},
   "source": [
    "#### B.1. Fit a Decision Tree with 1 node"
   ]
  },
  {
   "cell_type": "markdown",
   "metadata": {},
   "source": [
    "Consider the variables [\"bedroom\", \"bathroom\", \"sqft_living\", \"floors\", \"grade\"] as predictors and fit a decision tree model with one node to predict the 'price'. Note that this is a model with high bias and low variance"
   ]
  },
  {
   "cell_type": "code",
   "execution_count": 7,
   "metadata": {},
   "outputs": [],
   "source": [
    "x = house_set1.drop(columns = ['id', 'date','sqft_lot', 'waterfront', 'view', 'condition',\n",
    "       'sqft_above', 'sqft_basement', 'yr_built', 'yr_renovated', 'zipcode',\n",
    "       'lat', 'long', 'sqft_living15', 'sqft_lot15'])\n",
    "y = house_set1.price"
   ]
  },
  {
   "cell_type": "code",
   "execution_count": 8,
   "metadata": {},
   "outputs": [
    {
     "data": {
      "text/html": [
       "<div>\n",
       "<style scoped>\n",
       "    .dataframe tbody tr th:only-of-type {\n",
       "        vertical-align: middle;\n",
       "    }\n",
       "\n",
       "    .dataframe tbody tr th {\n",
       "        vertical-align: top;\n",
       "    }\n",
       "\n",
       "    .dataframe thead th {\n",
       "        text-align: right;\n",
       "    }\n",
       "</style>\n",
       "<table border=\"1\" class=\"dataframe\">\n",
       "  <thead>\n",
       "    <tr style=\"text-align: right;\">\n",
       "      <th></th>\n",
       "      <th>bedrooms</th>\n",
       "      <th>bathrooms</th>\n",
       "      <th>sqft_living</th>\n",
       "      <th>floors</th>\n",
       "      <th>grade</th>\n",
       "    </tr>\n",
       "  </thead>\n",
       "  <tbody>\n",
       "    <tr>\n",
       "      <th>0</th>\n",
       "      <td>1</td>\n",
       "      <td>0.75</td>\n",
       "      <td>430</td>\n",
       "      <td>1.0</td>\n",
       "      <td>4</td>\n",
       "    </tr>\n",
       "    <tr>\n",
       "      <th>1</th>\n",
       "      <td>1</td>\n",
       "      <td>1.00</td>\n",
       "      <td>460</td>\n",
       "      <td>1.0</td>\n",
       "      <td>4</td>\n",
       "    </tr>\n",
       "    <tr>\n",
       "      <th>2</th>\n",
       "      <td>1</td>\n",
       "      <td>1.00</td>\n",
       "      <td>470</td>\n",
       "      <td>1.0</td>\n",
       "      <td>5</td>\n",
       "    </tr>\n",
       "    <tr>\n",
       "      <th>3</th>\n",
       "      <td>3</td>\n",
       "      <td>0.75</td>\n",
       "      <td>490</td>\n",
       "      <td>1.5</td>\n",
       "      <td>5</td>\n",
       "    </tr>\n",
       "    <tr>\n",
       "      <th>4</th>\n",
       "      <td>1</td>\n",
       "      <td>1.00</td>\n",
       "      <td>500</td>\n",
       "      <td>1.0</td>\n",
       "      <td>5</td>\n",
       "    </tr>\n",
       "  </tbody>\n",
       "</table>\n",
       "</div>"
      ],
      "text/plain": [
       "   bedrooms  bathrooms  sqft_living  floors  grade\n",
       "0         1       0.75          430     1.0      4\n",
       "1         1       1.00          460     1.0      4\n",
       "2         1       1.00          470     1.0      5\n",
       "3         3       0.75          490     1.5      5\n",
       "4         1       1.00          500     1.0      5"
      ]
     },
     "execution_count": 8,
     "metadata": {},
     "output_type": "execute_result"
    }
   ],
   "source": [
    "x = x.drop(columns = 'price')"
   ]
  },
  {
   "cell_type": "code",
   "execution_count": null,
   "metadata": {},
   "outputs": [],
   "source": [
    "regressor = DecisionTreeRegressor(random_state = 0, max_depth = 1)\n",
    "regressor"
   ]
  },
  {
   "cell_type": "code",
   "execution_count": null,
   "metadata": {},
   "outputs": [],
   "source": [
    "from sklearn.model_selection import train_test_split"
   ]
  },
  {
   "cell_type": "code",
   "execution_count": null,
   "metadata": {},
   "outputs": [],
   "source": [
    "x_train,x_test,y_train,y_test = train_test_split(x,y,train_size = .5)"
   ]
  },
  {
   "cell_type": "markdown",
   "metadata": {},
   "source": [
    "#### B.2. Fitting deeper Trees"
   ]
  },
  {
   "cell_type": "markdown",
   "metadata": {},
   "source": [
    "Consider the same variables and fit deeper and deeper decision trees on the training set and validate each trees on the validation set by coputing the RSS. Plot a graph to visualize the RSS against the Model Complexity"
   ]
  },
  {
   "cell_type": "code",
   "execution_count": null,
   "metadata": {},
   "outputs": [],
   "source": [
    "regressor = DecisionTreeRegressor(random_state = 0, max_depth = 1)\n",
    "regressor_1 = DecisionTreeRegressor(random_state = 0, max_depth = 2)"
   ]
  },
  {
   "cell_type": "code",
   "execution_count": null,
   "metadata": {},
   "outputs": [],
   "source": [
    "model = regressor.fit(x_train,y_train)\n",
    "model"
   ]
  },
  {
   "cell_type": "code",
   "execution_count": null,
   "metadata": {},
   "outputs": [],
   "source": [
    "pred = model.predict(x_test)\n",
    "pred1 = model.predict(x_train)"
   ]
  },
  {
   "cell_type": "code",
   "execution_count": null,
   "metadata": {},
   "outputs": [],
   "source": [
    "rss_test = np.sum((y_test-pred)**2)\n",
    "rss_train = np.sum((y_train-pred1)**2)\n",
    "print(rss_test,rss_train)\n",
    "x_train.columns"
   ]
  },
  {
   "cell_type": "code",
   "execution_count": null,
   "metadata": {},
   "outputs": [],
   "source": [
    "\n",
    "plt.xlabel('bedrooms,bathrooms,sqft_living,floors,grade', color = \"orange\", fontsize= 12 )\n",
    "plt.ylabel('PRICE', color = \"orange\", fontsize= 12 )\n",
    "plt.title('Fit of model with 1 node',fontsize= 14)\n",
    "plt.plot(x_train,model.predict(x_train))\n",
    "plt.show()\n",
    "plt.savefig(\"1-node.png\")"
   ]
  },
  {
   "cell_type": "markdown",
   "metadata": {},
   "source": [
    "#### B.3. Training Error Vs Validation Error"
   ]
  },
  {
   "cell_type": "markdown",
   "metadata": {},
   "source": [
    "For each of the trees fitted above calculate the training accuracy. Plot RSS(train) and RSS(validation) against model Complexity on the same graph to compare the two."
   ]
  },
  {
   "cell_type": "code",
   "execution_count": null,
   "metadata": {},
   "outputs": [],
   "source": [
    "import os\n",
    "from sklearn.tree import DecisionTreeRegressor\n",
    "from sklearn.model_selection import train_test_split\n",
    "os.chdir('C:\\\\Users\\\\SKR\\\\Desktop\\\\Model Interpretation\\\\house train')\n",
    "for file in os.listdir('C:\\\\Users\\\\SKR\\\\Desktop\\\\Model Interpretation\\\\house train'):\n",
    "    train_rss = []\n",
    "    test_rss = []\n",
    "    complexity = []\n",
    "    df = pd.read_csv(file)\n",
    "    x = df.drop(columns = ['price','id', 'date','sqft_lot', 'waterfront', 'view', 'condition','sqft_above', 'sqft_basement', 'yr_built', 'yr_renovated', 'zipcode','lat', 'long', 'sqft_living15', 'sqft_lot15'])\n",
    "    y = df.price\n",
    "    x_train,x_test,y_train,y_test = train_test_split(x,y,train_size = .5)\n",
    "    for i in range(1,10,1):\n",
    "        regressor = DecisionTreeRegressor(random_state = 0, max_depth = i)\n",
    "        model = regressor.fit(x_train,y_train)\n",
    "        pred_train = model.predict(x_train)\n",
    "        pred_test = model.predict(x_test)\n",
    "        rss_test = np.sum((y_test-pred_test)**2)\n",
    "        rss_train = np.sum((y_train-pred_train)**2)\n",
    "        test_rss.append(rss_test)\n",
    "        train_rss.append(rss_train)\n",
    "        complexity.append(i)\n",
    "    plt.plot(complexity,train_rss,label = 'Train_'+str(file))\n",
    "    plt.plot(complexity,test_rss,label = 'TEST_'+str(file))\n",
    "    plt.xlabel('Model_complexity', color = \"orange\", fontsize= 12 )\n",
    "    plt.ylabel('RSS', color = \"orange\", fontsize= 12 )\n",
    "    plt.title('Scatter plot of VALIDATION_RSS and Model_complexity',fontsize= 14)\n",
    "plt.legend()\n",
    "    "
   ]
  },
  {
   "cell_type": "code",
   "execution_count": null,
   "metadata": {},
   "outputs": [],
   "source": [
    "x = house_set1.drop(columns = ['price','id', 'date','sqft_lot', 'waterfront', 'view', 'condition',\n",
    "       'sqft_above', 'sqft_basement', 'yr_built', 'yr_renovated', 'zipcode',\n",
    "       'lat', 'long', 'sqft_living15', 'sqft_lot15'])\n",
    "y = house_set1.price"
   ]
  },
  {
   "cell_type": "code",
   "execution_count": null,
   "metadata": {},
   "outputs": [],
   "source": [
    "train_rss = []\n",
    "test_rss = []\n",
    "complexity = []\n",
    "x_train,x_test,y_train,y_test = train_test_split(x,y,train_size = .5)\n",
    "for i in range(1,10,1):\n",
    "    regressor = DecisionTreeRegressor(random_state = 0, max_depth = i)\n",
    "    model = regressor.fit(x_train,y_train)\n",
    "    pred_train = model.predict(x_train)\n",
    "    pred_test = model.predict(x_test)\n",
    "    rss_test = np.sum((y_test-pred_test)**2)\n",
    "    rss_train = np.sum((y_train-pred_train)**2)\n",
    "    test_rss.append(rss_test)\n",
    "    train_rss.append(rss_train)\n",
    "    complexity.append(i)\n",
    "plt.plot(complexity,train_rss,color = 'red',label = 'Train_RSS')\n",
    "plt.plot(complexity,test_rss,color = 'green',label = 'TEST_RSS')\n",
    "plt.xlabel('Depth of Tree', color = \"orange\", fontsize= 12 )\n",
    "plt.ylabel('RSS', color = \"orange\", fontsize= 12 )\n",
    "plt.title('Scatter plot of RSS vs Depth of Tree',fontsize= 14)\n",
    "plt.legend()\n",
    "plt.savefig('Rss-Complex.png')"
   ]
  },
  {
   "cell_type": "markdown",
   "metadata": {},
   "source": [
    "#### B.4. Further Experiments"
   ]
  },
  {
   "cell_type": "markdown",
   "metadata": {},
   "source": [
    "For a fixed depth, include more and more variables and repeat step B.2. What would you expect to happen. Perform the experiment and validate your hypotheses."
   ]
  },
  {
   "cell_type": "code",
   "execution_count": null,
   "metadata": {},
   "outputs": [],
   "source": [
    "col = [ 'bedrooms', 'bathrooms', 'sqft_living',\n",
    "       'sqft_lot', 'floors', 'waterfront', 'view', 'condition', 'grade',\n",
    "       'sqft_above', 'sqft_basement', 'yr_built', 'yr_renovated', 'sqft_living15', 'sqft_lot15']\n",
    "x_vals = []\n",
    "train_rss = []\n",
    "test_rss = []\n",
    "complexity = np.arange(1,len(col)+1)\n",
    "for i in col:\n",
    "    x_vals.append(str(i))\n",
    "    x = house_set1[x_vals]\n",
    "    y = house_set1.price\n",
    "    x_train,x_test,y_train,y_test = train_test_split(x,y,train_size = .5)\n",
    "    regressor = DecisionTreeRegressor(random_state = 0, max_depth = 5)\n",
    "    model = regressor.fit(x_train,y_train)\n",
    "    pred_train = model.predict(x_train)\n",
    "    pred_test = model.predict(x_test)\n",
    "    rss_test = np.sum((y_test-pred_test)**2)\n",
    "    rss_train = np.sum((y_train-pred_train)**2)\n",
    "    test_rss.append(rss_test)\n",
    "    train_rss.append(rss_train)\n",
    "plt.plot(complexity,train_rss,color = 'red',label = 'Train_RSS')\n",
    "plt.plot(complexity,test_rss,color = 'green',label = 'TEST_RSS')\n",
    "plt.xlabel('Model_complexity', color = \"orange\", fontsize= 12 )\n",
    "plt.ylabel('RSS', color = \"orange\", fontsize= 12 )\n",
    "plt.title('Plot of RSS vs Model_complexity',fontsize= 14)\n",
    "plt.legend()\n",
    "plt.savefig('Plot between ')\n",
    "    "
   ]
  },
  {
   "cell_type": "code",
   "execution_count": null,
   "metadata": {},
   "outputs": [],
   "source": [
    "col"
   ]
  },
  {
   "cell_type": "code",
   "execution_count": null,
   "metadata": {},
   "outputs": [],
   "source": []
  },
  {
   "cell_type": "code",
   "execution_count": null,
   "metadata": {},
   "outputs": [],
   "source": []
  }
 ],
 "metadata": {
  "kernelspec": {
   "display_name": "Python 3",
   "language": "python",
   "name": "python3"
  },
  "language_info": {
   "codemirror_mode": {
    "name": "ipython",
    "version": 3
   },
   "file_extension": ".py",
   "mimetype": "text/x-python",
   "name": "python",
   "nbconvert_exporter": "python",
   "pygments_lexer": "ipython3",
   "version": "3.7.1"
  }
 },
 "nbformat": 4,
 "nbformat_minor": 2
}
